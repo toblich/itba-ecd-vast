{
 "cells": [
  {
   "cell_type": "code",
   "execution_count": 1,
   "metadata": {},
   "outputs": [],
   "source": [
    "from pyspark.sql import SparkSession\n",
    "\n",
    "spark = SparkSession.builder.getOrCreate()"
   ]
  },
  {
   "cell_type": "code",
   "execution_count": 2,
   "metadata": {},
   "outputs": [
    {
     "name": "stdout",
     "output_type": "stream",
     "text": [
      "root\n",
      " |-- apartmentId: integer (nullable = true)\n",
      " |-- rentalCost: float (nullable = true)\n",
      " |-- maxOccupancy: integer (nullable = true)\n",
      " |-- numberOfRooms: integer (nullable = true)\n",
      " |-- location: string (nullable = true)\n",
      " |-- buildingId: integer (nullable = true)\n",
      " |-- locationX: float (nullable = true)\n",
      " |-- locationY: float (nullable = true)\n",
      "\n",
      "+-----------+----------+------------+-------------+--------------------+----------+----------+---------+\n",
      "|apartmentId|rentalCost|maxOccupancy|numberOfRooms|            location|buildingId| locationX|locationY|\n",
      "+-----------+----------+------------+-------------+--------------------+----------+----------+---------+\n",
      "|          1|    768.16|           2|            4|POINT (1077.69794...|       340|  1077.698| 648.4427|\n",
      "|          2|   1014.55|           2|            1|POINT (-185.92928...|       752|-185.92929|1520.3271|\n",
      "+-----------+----------+------------+-------------+--------------------+----------+----------+---------+\n",
      "only showing top 2 rows\n",
      "\n"
     ]
    }
   ],
   "source": [
    "from pyspark.sql.types import *\n",
    "from pyspark.sql import functions as F\n",
    "\n",
    "df = spark.read.csv(\"./work/datasets/Attributes/Apartments.csv\", header=True, schema=StructType([\n",
    "    StructField('apartmentId', IntegerType()),\n",
    "    StructField('rentalCost', FloatType()),\n",
    "    StructField('maxOccupancy', IntegerType()),\n",
    "    StructField('numberOfRooms', IntegerType()),\n",
    "    StructField('location', StringType()),\n",
    "    StructField('buildingId', IntegerType()),\n",
    "])).\\\n",
    "    withColumn('locationX', F.regexp_extract('location', 'POINT \\(([^ ]+) ([^ ]+)\\)', 1).cast('float')).\\\n",
    "    withColumn('locationY', F.regexp_extract('location', 'POINT \\(([^ ]+) ([^ ]+)\\)', 2).cast('float'))\n",
    "\n",
    "df.printSchema()\n",
    "df.show(2)"
   ]
  },
  {
   "cell_type": "code",
   "execution_count": 3,
   "metadata": {},
   "outputs": [],
   "source": [
    "df.write.mode('overwrite').parquet(\"./work/tobi/parquet/apartments.parquet\")"
   ]
  },
  {
   "cell_type": "code",
   "execution_count": 4,
   "metadata": {},
   "outputs": [
    {
     "name": "stdout",
     "output_type": "stream",
     "text": [
      "root\n",
      " |-- buildingId: integer (nullable = true)\n",
      " |-- location: string (nullable = true)\n",
      " |-- buildingType: string (nullable = true)\n",
      " |-- maxOccupancy: integer (nullable = true)\n",
      " |-- units: array (nullable = true)\n",
      " |    |-- element: string (containsNull = false)\n",
      "\n",
      "+----------+--------------------+------------+------------+--------------------+\n",
      "|buildingId|            location|buildingType|maxOccupancy|               units|\n",
      "+----------+--------------------+------------+------------+--------------------+\n",
      "|         1|POLYGON ((350.063...|  Commercial|        null|                null|\n",
      "|         2|POLYGON ((-1926.9...|  Residental|          12|[481, 498, 534, 6...|\n",
      "+----------+--------------------+------------+------------+--------------------+\n",
      "only showing top 2 rows\n",
      "\n"
     ]
    }
   ],
   "source": [
    "df2 = spark.read.csv(\"./work/datasets/Attributes/Buildings.csv\", header=True, schema=StructType([\n",
    "    StructField('buildingId', IntegerType()),\n",
    "    StructField('location', StringType()),\n",
    "    StructField('buildingType', StringType()),\n",
    "    StructField('maxOccupancy', IntegerType()),\n",
    "    StructField('units', StringType()),\n",
    "])).\\\n",
    "    withColumn('units', F.split(F.regexp_extract('units', '^\\[(.*)\\]$', 1), ','))\n",
    "\n",
    "df2.printSchema()\n",
    "df2.show(2)\n",
    "\n",
    "df2.write.mode('overwrite').parquet(\"./work/tobi/parquet/buildings.parquet\")"
   ]
  },
  {
   "cell_type": "code",
   "execution_count": 5,
   "metadata": {},
   "outputs": [
    {
     "name": "stdout",
     "output_type": "stream",
     "text": [
      "root\n",
      " |-- employerId: integer (nullable = true)\n",
      " |-- location: string (nullable = true)\n",
      " |-- buildingId: integer (nullable = true)\n",
      " |-- locationX: float (nullable = true)\n",
      " |-- locationY: float (nullable = true)\n",
      "\n",
      "+----------+--------------------+----------+----------+---------+\n",
      "|employerId|            location|buildingId| locationX|locationY|\n",
      "+----------+--------------------+----------+----------+---------+\n",
      "|       379|POINT (-1849.9971...|       823|-1849.9972|1744.6011|\n",
      "|       380|POINT (41.5178376...|       154| 41.517838|418.72647|\n",
      "+----------+--------------------+----------+----------+---------+\n",
      "only showing top 2 rows\n",
      "\n"
     ]
    }
   ],
   "source": [
    "df3 = spark.read.csv(\"./work/datasets/Attributes/Employers.csv\", header=True, schema=StructType([\n",
    "    StructField('employerId', IntegerType()),\n",
    "    StructField('location', StringType()),\n",
    "    StructField('buildingId', IntegerType()),\n",
    "])).\\\n",
    "    withColumn('locationX', F.regexp_extract('location', 'POINT \\(([^ ]+) ([^ ]+)\\)', 1).cast('float')).\\\n",
    "    withColumn('locationY', F.regexp_extract('location', 'POINT \\(([^ ]+) ([^ ]+)\\)', 2).cast('float'))\n",
    "\n",
    "df3.printSchema()\n",
    "\n",
    "df3.show(2)\n",
    "df3.write.mode('overwrite').parquet(\"./work/tobi/parquet/employers.parquet\")"
   ]
  },
  {
   "cell_type": "code",
   "execution_count": 9,
   "metadata": {},
   "outputs": [
    {
     "name": "stdout",
     "output_type": "stream",
     "text": [
      "root\n",
      " |-- jobId: integer (nullable = true)\n",
      " |-- employerId: integer (nullable = true)\n",
      " |-- hourlyRate: float (nullable = true)\n",
      " |-- startTime: string (nullable = true)\n",
      " |-- endTime: string (nullable = true)\n",
      " |-- daysToWork: array (nullable = true)\n",
      " |    |-- element: string (containsNull = false)\n",
      " |-- educationRequirement: string (nullable = true)\n",
      "\n",
      "+-----+----------+----------+----------+----------+--------------------+--------------------+\n",
      "|jobId|employerId|hourlyRate| startTime|   endTime|          daysToWork|educationRequirement|\n",
      "+-----+----------+----------+----------+----------+--------------------+--------------------+\n",
      "|    0|       379|      10.0|7:46:00 AM|3:46:00 PM|[Monday, Tuesday,...| HighSchoolOrCollege|\n",
      "|    1|       379| 22.217634|7:31:00 AM|3:31:00 PM|[Monday, Tuesday,...|           Bachelors|\n",
      "+-----+----------+----------+----------+----------+--------------------+--------------------+\n",
      "only showing top 2 rows\n",
      "\n"
     ]
    }
   ],
   "source": [
    "df4 = spark.read.csv(\"./work/datasets/Attributes/Jobs.csv\", header=True, schema=StructType([\n",
    "    StructField('jobId', IntegerType()),\n",
    "    StructField('employerId', IntegerType()),\n",
    "    StructField('hourlyRate', FloatType()),\n",
    "    StructField('startTime', StringType()),\n",
    "    StructField('endTime', StringType()),\n",
    "    StructField('daysToWork', StringType()),\n",
    "    StructField('educationRequirement', StringType()),\n",
    "])).\\\n",
    "    withColumn('daysToWork', F.split(F.regexp_extract('daysToWork', '^\\[(.*)\\]$', 1), ','))\n",
    "\n",
    "df4.printSchema()\n",
    "\n",
    "df4.show(2)\n",
    "df4.write.mode('overwrite').parquet(\"./work/tobi/parquet/jobs.parquet\")"
   ]
  },
  {
   "cell_type": "code",
   "execution_count": 10,
   "metadata": {},
   "outputs": [
    {
     "name": "stdout",
     "output_type": "stream",
     "text": [
      "root\n",
      " |-- participantId: integer (nullable = true)\n",
      " |-- householdSize: integer (nullable = true)\n",
      " |-- haveKids: boolean (nullable = true)\n",
      " |-- age: integer (nullable = true)\n",
      " |-- educationLevel: string (nullable = true)\n",
      " |-- interestGroup: string (nullable = true)\n",
      " |-- joviality: float (nullable = true)\n",
      "\n",
      "+-------------+-------------+--------+---+-------------------+-------------+-----------+\n",
      "|participantId|householdSize|haveKids|age|     educationLevel|interestGroup|  joviality|\n",
      "+-------------+-------------+--------+---+-------------------+-------------+-----------+\n",
      "|            0|            3|    true| 36|HighSchoolOrCollege|            H|0.001626703|\n",
      "|            1|            3|    true| 25|HighSchoolOrCollege|            B|  0.3280865|\n",
      "+-------------+-------------+--------+---+-------------------+-------------+-----------+\n",
      "only showing top 2 rows\n",
      "\n"
     ]
    }
   ],
   "source": [
    "df5 = spark.read.csv(\"./work/datasets/Attributes/Participants.csv\", header=True, schema=StructType([\n",
    "    StructField('participantId', IntegerType()),\n",
    "    StructField('householdSize', IntegerType()),\n",
    "    StructField('haveKids', BooleanType()),\n",
    "    StructField('age', IntegerType()),\n",
    "    StructField('educationLevel', StringType()),\n",
    "    StructField('interestGroup', StringType()),\n",
    "    StructField('joviality', FloatType()),\n",
    "]))\n",
    "\n",
    "df5.printSchema()\n",
    "\n",
    "df5.show(2)\n",
    "df5.write.mode('overwrite').parquet(\"./work/tobi/parquet/participants.parquet\")"
   ]
  },
  {
   "cell_type": "code",
   "execution_count": 11,
   "metadata": {},
   "outputs": [
    {
     "name": "stdout",
     "output_type": "stream",
     "text": [
      "root\n",
      " |-- pubId: integer (nullable = true)\n",
      " |-- hourlyCost: float (nullable = true)\n",
      " |-- maxOccupancy: integer (nullable = true)\n",
      " |-- location: string (nullable = true)\n",
      " |-- buildingId: integer (nullable = true)\n",
      " |-- locationX: float (nullable = true)\n",
      " |-- locationY: float (nullable = true)\n",
      "\n",
      "+-----+----------+------------+--------------------+----------+---------+---------+\n",
      "|pubId|hourlyCost|maxOccupancy|            location|buildingId|locationX|locationY|\n",
      "+-----+----------+------------+--------------------+----------+---------+---------+\n",
      "|  442|  8.281103|          64|POINT (964.438023...|       556|964.43805|3991.6035|\n",
      "|  443|  6.417435|          64|POINT (1809.88017...|        29|1809.8801|4339.1724|\n",
      "+-----+----------+------------+--------------------+----------+---------+---------+\n",
      "only showing top 2 rows\n",
      "\n"
     ]
    }
   ],
   "source": [
    "df6 = spark.read.csv(\"./work/datasets/Attributes/Pubs.csv\", header=True, schema=StructType([\n",
    "    StructField('pubId', IntegerType()),\n",
    "    StructField('hourlyCost', FloatType()),\n",
    "    StructField('maxOccupancy', IntegerType()),\n",
    "    StructField('location', StringType()),\n",
    "    StructField('buildingId', IntegerType()),\n",
    "])).\\\n",
    "    withColumn('locationX', F.regexp_extract('location', 'POINT \\(([^ ]+) ([^ ]+)\\)', 1).cast('float')).\\\n",
    "    withColumn('locationY', F.regexp_extract('location', 'POINT \\(([^ ]+) ([^ ]+)\\)', 2).cast('float'))\n",
    "\n",
    "df6.printSchema()\n",
    "\n",
    "df6.show(2)\n",
    "df6.write.mode('overwrite').parquet(\"./work/tobi/parquet/pubs.parquet\")"
   ]
  },
  {
   "cell_type": "code",
   "execution_count": 12,
   "metadata": {},
   "outputs": [
    {
     "name": "stdout",
     "output_type": "stream",
     "text": [
      "root\n",
      " |-- restaurantId: integer (nullable = true)\n",
      " |-- foodCost: float (nullable = true)\n",
      " |-- maxOccupancy: integer (nullable = true)\n",
      " |-- location: string (nullable = true)\n",
      " |-- buildingId: integer (nullable = true)\n",
      " |-- locationX: float (nullable = true)\n",
      " |-- locationY: float (nullable = true)\n",
      "\n",
      "+------------+--------+------------+--------------------+----------+---------+---------+\n",
      "|restaurantId|foodCost|maxOccupancy|            location|buildingId|locationX|locationY|\n",
      "+------------+--------+------------+--------------------+----------+---------+---------+\n",
      "|         445|    5.15|          71|POINT (631.513072...|       304|631.51306|2001.4772|\n",
      "|         446|    4.17|          82|POINT (413.840000...|       308|   413.84|1194.1287|\n",
      "+------------+--------+------------+--------------------+----------+---------+---------+\n",
      "only showing top 2 rows\n",
      "\n"
     ]
    }
   ],
   "source": [
    "df7 = spark.read.csv(\"./work/datasets/Attributes/Restaurants.csv\", header=True, schema=StructType([\n",
    "    StructField('restaurantId', IntegerType()),\n",
    "    StructField('foodCost', FloatType()),\n",
    "    StructField('maxOccupancy', IntegerType()),\n",
    "    StructField('location', StringType()),\n",
    "    StructField('buildingId', IntegerType()),\n",
    "])).\\\n",
    "    withColumn('locationX', F.regexp_extract('location', 'POINT \\(([^ ]+) ([^ ]+)\\)', 1).cast('float')).\\\n",
    "    withColumn('locationY', F.regexp_extract('location', 'POINT \\(([^ ]+) ([^ ]+)\\)', 2).cast('float'))\n",
    "\n",
    "df7.printSchema()\n",
    "\n",
    "df7.show(2)\n",
    "df7.write.mode('overwrite').parquet(\"./work/tobi/parquet/restaurants.parquet\")"
   ]
  },
  {
   "cell_type": "code",
   "execution_count": 13,
   "metadata": {},
   "outputs": [
    {
     "name": "stdout",
     "output_type": "stream",
     "text": [
      "root\n",
      " |-- schoolId: integer (nullable = true)\n",
      " |-- monthlyFees: float (nullable = true)\n",
      " |-- maxEnrollment: integer (nullable = true)\n",
      " |-- location: string (nullable = true)\n",
      " |-- buildingId: integer (nullable = true)\n",
      " |-- locationX: float (nullable = true)\n",
      " |-- locationY: float (nullable = true)\n",
      "\n",
      "+--------+-----------+-------------+--------------------+----------+----------+---------+\n",
      "|schoolId|monthlyFees|maxEnrollment|            location|buildingId| locationX|locationY|\n",
      "+--------+-----------+-------------+--------------------+----------+----------+---------+\n",
      "|       0|  12.812445|          242|POINT (-376.75050...|       662|-376.75052|1607.9844|\n",
      "|     450|   91.14352|          418|POINT (-2597.4476...|       943|-2597.4478|3194.1548|\n",
      "+--------+-----------+-------------+--------------------+----------+----------+---------+\n",
      "only showing top 2 rows\n",
      "\n"
     ]
    }
   ],
   "source": [
    "df8 = spark.read.csv(\"./work/datasets/Attributes/Schools.csv\", header=True, schema=StructType([\n",
    "    StructField('schoolId', IntegerType()),\n",
    "    StructField('monthlyFees', FloatType()),\n",
    "    StructField('maxEnrollment', IntegerType()),\n",
    "    StructField('location', StringType()),\n",
    "    StructField('buildingId', IntegerType()),\n",
    "])).\\\n",
    "    withColumn('locationX', F.regexp_extract('location', 'POINT \\(([^ ]+) ([^ ]+)\\)', 1).cast('float')).\\\n",
    "    withColumn('locationY', F.regexp_extract('location', 'POINT \\(([^ ]+) ([^ ]+)\\)', 2).cast('float'))\n",
    "\n",
    "df8.printSchema()\n",
    "\n",
    "df8.show(2)\n",
    "df8.write.mode('overwrite').parquet(\"./work/tobi/parquet/schools.parquet\")"
   ]
  }
 ],
 "metadata": {
  "kernelspec": {
   "display_name": "Python 3 (ipykernel)",
   "language": "python",
   "name": "python3"
  },
  "language_info": {
   "codemirror_mode": {
    "name": "ipython",
    "version": 3
   },
   "file_extension": ".py",
   "mimetype": "text/x-python",
   "name": "python",
   "nbconvert_exporter": "python",
   "pygments_lexer": "ipython3",
   "version": "3.10.6"
  },
  "orig_nbformat": 4
 },
 "nbformat": 4,
 "nbformat_minor": 2
}
