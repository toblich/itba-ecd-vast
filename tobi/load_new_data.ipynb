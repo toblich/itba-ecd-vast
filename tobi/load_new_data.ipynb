{
 "cells": [
  {
   "cell_type": "code",
   "execution_count": 1,
   "metadata": {},
   "outputs": [],
   "source": [
    "from pyspark.sql import SparkSession\n",
    "\n",
    "spark = SparkSession.builder.getOrCreate()"
   ]
  },
  {
   "cell_type": "code",
   "execution_count": 2,
   "metadata": {},
   "outputs": [
    {
     "name": "stdout",
     "output_type": "stream",
     "text": [
      "root\n",
      " |-- apartmentId: integer (nullable = true)\n",
      " |-- rentalCost: float (nullable = true)\n",
      " |-- maxOccupancy: integer (nullable = true)\n",
      " |-- numberOfRooms: integer (nullable = true)\n",
      " |-- location: string (nullable = true)\n",
      " |-- buildingId: integer (nullable = true)\n",
      " |-- locationX: float (nullable = true)\n",
      " |-- locationY: float (nullable = true)\n",
      "\n",
      "+-----------+----------+------------+-------------+--------------------+----------+----------+---------+\n",
      "|apartmentId|rentalCost|maxOccupancy|numberOfRooms|            location|buildingId| locationX|locationY|\n",
      "+-----------+----------+------------+-------------+--------------------+----------+----------+---------+\n",
      "|          1|    768.16|           2|            4|POINT (1077.69794...|       340|  1077.698| 648.4427|\n",
      "|          2|   1014.55|           2|            1|POINT (-185.92928...|       752|-185.92929|1520.3271|\n",
      "+-----------+----------+------------+-------------+--------------------+----------+----------+---------+\n",
      "only showing top 2 rows\n",
      "\n"
     ]
    }
   ],
   "source": [
    "from pyspark.sql.types import *\n",
    "from pyspark.sql import functions as F\n",
    "\n",
    "df = spark.read.csv(\"./work/datasets/Attributes/Apartments.csv\", header=True, schema=StructType([\n",
    "    StructField('apartmentId', IntegerType()),\n",
    "    StructField('rentalCost', FloatType()),\n",
    "    StructField('maxOccupancy', IntegerType()),\n",
    "    StructField('numberOfRooms', IntegerType()),\n",
    "    StructField('location', StringType()),\n",
    "    StructField('buildingId', IntegerType()),\n",
    "])).\\\n",
    "    withColumn('locationX', F.regexp_extract('location', 'POINT \\(([^ ]+) ([^ ]+)\\)', 1).cast('float')).\\\n",
    "    withColumn('locationY', F.regexp_extract('location', 'POINT \\(([^ ]+) ([^ ]+)\\)', 2).cast('float'))\n",
    "\n",
    "df.printSchema()\n",
    "df.show(2)"
   ]
  },
  {
   "cell_type": "code",
   "execution_count": 3,
   "metadata": {},
   "outputs": [],
   "source": [
    "df.write.mode('overwrite').parquet(\"./work/tobi/parquet/apartments.parquet\")"
   ]
  },
  {
   "cell_type": "code",
   "execution_count": 15,
   "metadata": {},
   "outputs": [
    {
     "name": "stdout",
     "output_type": "stream",
     "text": [
      "root\n",
      " |-- buildingId: integer (nullable = true)\n",
      " |-- location: string (nullable = true)\n",
      " |-- buildingType: string (nullable = true)\n",
      " |-- maxOccupancy: integer (nullable = true)\n",
      " |-- units: array (nullable = true)\n",
      " |    |-- element: string (containsNull = false)\n",
      "\n",
      "+----------+--------------------+------------+------------+--------------------+\n",
      "|buildingId|            location|buildingType|maxOccupancy|               units|\n",
      "+----------+--------------------+------------+------------+--------------------+\n",
      "|         1|POLYGON ((350.063...|  Commercial|        null|                null|\n",
      "|         2|POLYGON ((-1926.9...|  Residental|          12|[481, 498, 534, 6...|\n",
      "+----------+--------------------+------------+------------+--------------------+\n",
      "only showing top 2 rows\n",
      "\n"
     ]
    }
   ],
   "source": [
    "df2 = spark.read.csv(\"./work/datasets/Attributes/Buildings.csv\", header=True, schema=StructType([\n",
    "    StructField('buildingId', IntegerType()),\n",
    "    StructField('location', StringType()),\n",
    "    StructField('buildingType', StringType()),\n",
    "    StructField('maxOccupancy', IntegerType()),\n",
    "    StructField('units', StringType()),\n",
    "])).\\\n",
    "    withColumn('units', F.split(F.regexp_extract('units', '^\\[(.*)\\]$', 1), ','))\n",
    "\n",
    "df2.printSchema()\n",
    "df2.show(2)\n",
    "\n",
    "df2.write.mode('overwrite').parquet(\"./work/tobi/parquet/buildings.parquet\")"
   ]
  }
 ],
 "metadata": {
  "kernelspec": {
   "display_name": "Python 3 (ipykernel)",
   "language": "python",
   "name": "python3"
  },
  "language_info": {
   "codemirror_mode": {
    "name": "ipython",
    "version": 3
   },
   "file_extension": ".py",
   "mimetype": "text/x-python",
   "name": "python",
   "nbconvert_exporter": "python",
   "pygments_lexer": "ipython3",
   "version": "3.10.6"
  },
  "orig_nbformat": 4
 },
 "nbformat": 4,
 "nbformat_minor": 2
}
