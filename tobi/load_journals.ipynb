{
 "cells": [
  {
   "cell_type": "code",
   "execution_count": 1,
   "metadata": {},
   "outputs": [],
   "source": [
    "from pyspark.sql import SparkSession\n",
    "\n",
    "spark = SparkSession.builder.getOrCreate()"
   ]
  },
  {
   "cell_type": "code",
   "execution_count": 3,
   "metadata": {},
   "outputs": [
    {
     "name": "stdout",
     "output_type": "stream",
     "text": [
      "root\n",
      " |-- participantId: integer (nullable = true)\n",
      " |-- timestamp: timestamp (nullable = true)\n",
      " |-- venueId: integer (nullable = true)\n",
      " |-- venueType: string (nullable = true)\n",
      "\n",
      "+-------------+-------------------+-------+---------+\n",
      "|participantId|          timestamp|venueId|venueType|\n",
      "+-------------+-------------------+-------+---------+\n",
      "|          619|2022-03-01 05:35:00|   1798|      Pub|\n",
      "|           15|2022-03-01 05:50:00|   1798|      Pub|\n",
      "+-------------+-------------------+-------+---------+\n",
      "only showing top 2 rows\n",
      "\n"
     ]
    }
   ],
   "source": [
    "from pyspark.sql.types import *\n",
    "from pyspark.sql import functions as F\n",
    "\n",
    "df = spark.read.csv(\"./work/datasets/Journals/CheckinJournal.csv\", header=True, schema=StructType([\n",
    "    StructField('participantId', IntegerType()),\n",
    "    StructField('timestamp', TimestampType()),\n",
    "    StructField('venueId', IntegerType()),\n",
    "    StructField('venueType', StringType()),\n",
    "]))\n",
    "\n",
    "df.printSchema()\n",
    "df.show(2)\n",
    "\n",
    "df.write.mode('overwrite').parquet(\"./work/tobi/parquet/checkin_journal.parquet\")"
   ]
  },
  {
   "cell_type": "code",
   "execution_count": 4,
   "metadata": {},
   "outputs": [
    {
     "name": "stdout",
     "output_type": "stream",
     "text": [
      "root\n",
      " |-- participantId: integer (nullable = true)\n",
      " |-- timestamp: timestamp (nullable = true)\n",
      " |-- category: string (nullable = true)\n",
      " |-- amount: double (nullable = true)\n",
      "\n",
      "+-------------+-------------------+--------+------------------+\n",
      "|participantId|          timestamp|category|            amount|\n",
      "+-------------+-------------------+--------+------------------+\n",
      "|            0|2022-03-01 00:00:00|    Wage| 2472.507558921935|\n",
      "|            0|2022-03-01 00:00:00| Shelter|-554.9886216892347|\n",
      "+-------------+-------------------+--------+------------------+\n",
      "only showing top 2 rows\n",
      "\n"
     ]
    }
   ],
   "source": [
    "df2 = spark.read.csv(\"./work/datasets/Journals/FinancialJournal.csv\", header=True, schema=StructType([\n",
    "    StructField('participantId', IntegerType()),\n",
    "    StructField('timestamp', TimestampType()),\n",
    "    StructField('category', StringType()),\n",
    "    StructField('amount', DoubleType()),\n",
    "]))\n",
    "\n",
    "df2.printSchema()\n",
    "df2.show(2)\n",
    "\n",
    "df2.write.mode('overwrite').parquet(\"./work/tobi/parquet/financial_journal.parquet\")"
   ]
  },
  {
   "cell_type": "code",
   "execution_count": 5,
   "metadata": {},
   "outputs": [
    {
     "name": "stdout",
     "output_type": "stream",
     "text": [
      "root\n",
      " |-- timestamp: timestamp (nullable = true)\n",
      " |-- participantIdFrom: integer (nullable = true)\n",
      " |-- participantIdTo: integer (nullable = true)\n",
      "\n",
      "+-------------------+-----------------+---------------+\n",
      "|          timestamp|participantIdFrom|participantIdTo|\n",
      "+-------------------+-----------------+---------------+\n",
      "|2022-03-01 00:00:00|              173|            180|\n",
      "|2022-03-01 00:00:00|              178|            183|\n",
      "+-------------------+-----------------+---------------+\n",
      "only showing top 2 rows\n",
      "\n"
     ]
    }
   ],
   "source": [
    "df3 = spark.read.csv(\"./work/datasets/Journals/SocialNetwork.csv\", header=True, schema=StructType([\n",
    "    StructField('timestamp', TimestampType()),\n",
    "    StructField('participantIdFrom', IntegerType()),\n",
    "    StructField('participantIdTo', IntegerType()),\n",
    "]))\n",
    "\n",
    "df3.printSchema()\n",
    "df3.show(2)\n",
    "\n",
    "df3.write.mode('overwrite').parquet(\"./work/tobi/parquet/social_network.parquet\")"
   ]
  },
  {
   "cell_type": "code",
   "execution_count": 7,
   "metadata": {},
   "outputs": [
    {
     "name": "stdout",
     "output_type": "stream",
     "text": [
      "root\n",
      " |-- participantId: integer (nullable = true)\n",
      " |-- travelStartTime: timestamp (nullable = true)\n",
      " |-- travelStartLocationId: integer (nullable = true)\n",
      " |-- travelEndTime: timestamp (nullable = true)\n",
      " |-- travelEndLocationId: integer (nullable = true)\n",
      " |-- purpose: string (nullable = true)\n",
      " |-- checkInTime: timestamp (nullable = true)\n",
      " |-- checkOutTime: timestamp (nullable = true)\n",
      " |-- startingBalance: double (nullable = true)\n",
      " |-- endingBalance: double (nullable = true)\n",
      "\n",
      "+-------------+-------------------+---------------------+-------------------+-------------------+--------------------+-------------------+-------------------+------------------+-----------------+\n",
      "|participantId|    travelStartTime|travelStartLocationId|      travelEndTime|travelEndLocationId|             purpose|        checkInTime|       checkOutTime|   startingBalance|    endingBalance|\n",
      "+-------------+-------------------+---------------------+-------------------+-------------------+--------------------+-------------------+-------------------+------------------+-----------------+\n",
      "|           23|2022-03-01 05:20:00|                  532|2022-03-01 05:55:00|                894|Recreation (Socia...|2022-03-01 05:55:00|2022-03-01 06:00:00|  851.223425374295|850.1974912043639|\n",
      "|          876|2022-03-01 05:50:00|                 null|2022-03-01 06:00:00|               1804|              Eating|2022-03-01 06:00:00|2022-03-01 06:05:00|2071.7796468880524|2065.864612125277|\n",
      "+-------------+-------------------+---------------------+-------------------+-------------------+--------------------+-------------------+-------------------+------------------+-----------------+\n",
      "only showing top 2 rows\n",
      "\n"
     ]
    }
   ],
   "source": [
    "df4 = spark.read.csv(\"./work/datasets/Journals/TravelJournal.csv\", header=True, schema=StructType([\n",
    "    StructField('participantId', IntegerType()),\n",
    "    StructField('travelStartTime', TimestampType()),\n",
    "    StructField('travelStartLocationId', IntegerType()),\n",
    "    StructField('travelEndTime', TimestampType()),\n",
    "    StructField('travelEndLocationId', IntegerType()),\n",
    "    StructField('purpose', StringType()),\n",
    "    StructField('checkInTime', TimestampType()),\n",
    "    StructField('checkOutTime', TimestampType()),\n",
    "    StructField('startingBalance', DoubleType()),\n",
    "    StructField('endingBalance', DoubleType()),\n",
    "]))\n",
    "\n",
    "df4.printSchema()\n",
    "df4.show(2)\n",
    "\n",
    "df4.write.mode('overwrite').parquet(\"./work/tobi/parquet/travel_journal.parquet\")"
   ]
  }
 ],
 "metadata": {
  "kernelspec": {
   "display_name": "Python 3 (ipykernel)",
   "language": "python",
   "name": "python3"
  },
  "language_info": {
   "codemirror_mode": {
    "name": "ipython",
    "version": 3
   },
   "file_extension": ".py",
   "mimetype": "text/x-python",
   "name": "python",
   "nbconvert_exporter": "python",
   "pygments_lexer": "ipython3",
   "version": "3.10.6"
  },
  "orig_nbformat": 4
 },
 "nbformat": 4,
 "nbformat_minor": 2
}
